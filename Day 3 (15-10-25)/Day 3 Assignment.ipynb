{
 "cells": [
  {
   "cell_type": "code",
   "execution_count": 0,
   "metadata": {
    "application/vnd.databricks.v1+cell": {
     "cellMetadata": {
      "byteLimit": 2048000,
      "rowLimit": 10000
     },
     "inputWidgets": {},
     "nuid": "6959dfe8-d3ab-4869-9547-28418fa8d16c",
     "showTitle": false,
     "tableResultSettingsMap": {},
     "title": ""
    }
   },
   "outputs": [],
   "source": [
    "sfOptions = {\n",
    "  \"sfURL\": \"kcsvubi-lc68850.snowflakecomputing.com\",\n",
    "  \"sfDatabase\": \"COMPANY_DB\",\n",
    "  \"sfSchema\": \"ANALYTICS\",\n",
    "  \"sfWarehouse\": \"COMPUTE_WH\",\n",
    "  \"sfRole\": \"ACCOUNTADMIN\",\n",
    "  \"sfUser\": \"laks13\",\n",
    "  \"sfPassword\": \"Lakshan,098!!!\"\n",
    "}\n"
   ]
  },
  {
   "cell_type": "code",
   "execution_count": 0,
   "metadata": {
    "application/vnd.databricks.v1+cell": {
     "cellMetadata": {
      "byteLimit": 2048000,
      "rowLimit": 10000
     },
     "inputWidgets": {},
     "nuid": "f1d39613-81c0-4d0c-b8b2-5bcd19f46628",
     "showTitle": false,
     "tableResultSettingsMap": {},
     "title": ""
    }
   },
   "outputs": [
    {
     "output_type": "display_data",
     "data": {
      "text/html": [
       "<style scoped>\n",
       "  .table-result-container {\n",
       "    max-height: 300px;\n",
       "    overflow: auto;\n",
       "  }\n",
       "  table, th, td {\n",
       "    border: 1px solid black;\n",
       "    border-collapse: collapse;\n",
       "  }\n",
       "  th, td {\n",
       "    padding: 5px;\n",
       "  }\n",
       "  th {\n",
       "    text-align: left;\n",
       "  }\n",
       "</style><div class='table-result-container'><table class='table-result'><thead style='background-color: white'><tr><th>EMP_ID</th><th>FIRST_NAME</th><th>LAST_NAME</th><th>DEPARTMENT</th><th>SALARY</th></tr></thead><tbody><tr><td>1</td><td>Alice</td><td>Johnson</td><td>HR</td><td>60000.0</td></tr><tr><td>2</td><td>Bob</td><td>Smith</td><td>IT</td><td>80000.0</td></tr><tr><td>3</td><td>Charlie</td><td>Brown</td><td>Finance</td><td>75000.0</td></tr></tbody></table></div>"
      ]
     },
     "metadata": {
      "application/vnd.databricks.v1+output": {
       "addedWidgets": {},
       "aggData": [],
       "aggError": "",
       "aggOverflow": false,
       "aggSchema": [],
       "aggSeriesLimitReached": false,
       "aggType": "",
       "arguments": {},
       "columnCustomDisplayInfos": {},
       "data": [
        [
         "1",
         "Alice",
         "Johnson",
         "HR",
         60000.0
        ],
        [
         "2",
         "Bob",
         "Smith",
         "IT",
         80000.0
        ],
        [
         "3",
         "Charlie",
         "Brown",
         "Finance",
         75000.0
        ]
       ],
       "datasetInfos": [],
       "dbfsResultPath": null,
       "isJsonSchema": true,
       "metadata": {},
       "overflow": false,
       "plotOptions": {
        "customPlotOptions": {},
        "displayType": "table",
        "pivotAggregation": null,
        "pivotColumns": null,
        "xColumns": null,
        "yColumns": null
       },
       "removedWidgets": [],
       "schema": [
        {
         "metadata": "{}",
         "name": "EMP_ID",
         "type": "\"decimal(38,0)\""
        },
        {
         "metadata": "{}",
         "name": "FIRST_NAME",
         "type": "\"string\""
        },
        {
         "metadata": "{}",
         "name": "LAST_NAME",
         "type": "\"string\""
        },
        {
         "metadata": "{}",
         "name": "DEPARTMENT",
         "type": "\"string\""
        },
        {
         "metadata": "{}",
         "name": "SALARY",
         "type": "\"double\""
        }
       ],
       "type": "table"
      }
     },
     "output_type": "display_data"
    }
   ],
   "source": [
    "df = (spark.read\n",
    "      .format(\"snowflake\")\n",
    "      .options(**sfOptions)\n",
    "      .option(\"dbtable\", \"EMPLOYEES\")\n",
    "      .load())\n",
    "\n",
    "display(df)\n"
   ]
  },
  {
   "cell_type": "code",
   "execution_count": 0,
   "metadata": {
    "application/vnd.databricks.v1+cell": {
     "cellMetadata": {
      "byteLimit": 2048000,
      "rowLimit": 10000
     },
     "inputWidgets": {},
     "nuid": "6331de0e-d859-4fe7-92d7-2a137858e685",
     "showTitle": false,
     "tableResultSettingsMap": {},
     "title": ""
    }
   },
   "outputs": [
    {
     "output_type": "display_data",
     "data": {
      "text/html": [
       "<style scoped>\n",
       "  .table-result-container {\n",
       "    max-height: 300px;\n",
       "    overflow: auto;\n",
       "  }\n",
       "  table, th, td {\n",
       "    border: 1px solid black;\n",
       "    border-collapse: collapse;\n",
       "  }\n",
       "  th, td {\n",
       "    padding: 5px;\n",
       "  }\n",
       "  th {\n",
       "    text-align: left;\n",
       "  }\n",
       "</style><div class='table-result-container'><table class='table-result'><thead style='background-color: white'><tr><th>EMP_ID</th><th>FIRST_NAME</th><th>LAST_NAME</th><th>DEPARTMENT</th><th>SALARY</th><th>updated_salary</th></tr></thead><tbody><tr><td>1</td><td>Alice</td><td>Johnson</td><td>HR</td><td>60000.0</td><td>60000.0</td></tr><tr><td>2</td><td>Bob</td><td>Smith</td><td>IT</td><td>80000.0</td><td>88000.0</td></tr><tr><td>3</td><td>Charlie</td><td>Brown</td><td>Finance</td><td>75000.0</td><td>75000.0</td></tr></tbody></table></div>"
      ]
     },
     "metadata": {
      "application/vnd.databricks.v1+output": {
       "addedWidgets": {},
       "aggData": [],
       "aggError": "",
       "aggOverflow": false,
       "aggSchema": [],
       "aggSeriesLimitReached": false,
       "aggType": "",
       "arguments": {},
       "columnCustomDisplayInfos": {},
       "data": [
        [
         "1",
         "Alice",
         "Johnson",
         "HR",
         60000.0,
         60000.0
        ],
        [
         "2",
         "Bob",
         "Smith",
         "IT",
         80000.0,
         88000.0
        ],
        [
         "3",
         "Charlie",
         "Brown",
         "Finance",
         75000.0,
         75000.0
        ]
       ],
       "datasetInfos": [],
       "dbfsResultPath": null,
       "isJsonSchema": true,
       "metadata": {},
       "overflow": false,
       "plotOptions": {
        "customPlotOptions": {},
        "displayType": "table",
        "pivotAggregation": null,
        "pivotColumns": null,
        "xColumns": null,
        "yColumns": null
       },
       "removedWidgets": [],
       "schema": [
        {
         "metadata": "{}",
         "name": "EMP_ID",
         "type": "\"decimal(38,0)\""
        },
        {
         "metadata": "{}",
         "name": "FIRST_NAME",
         "type": "\"string\""
        },
        {
         "metadata": "{}",
         "name": "LAST_NAME",
         "type": "\"string\""
        },
        {
         "metadata": "{}",
         "name": "DEPARTMENT",
         "type": "\"string\""
        },
        {
         "metadata": "{}",
         "name": "SALARY",
         "type": "\"double\""
        },
        {
         "metadata": "{}",
         "name": "updated_salary",
         "type": "\"double\""
        }
       ],
       "type": "table"
      }
     },
     "output_type": "display_data"
    }
   ],
   "source": [
    "from pyspark.sql.functions import col, when\n",
    "\n",
    "df_transformed = df.withColumn(\n",
    "    \"updated_salary\",\n",
    "    when(col(\"DEPARTMENT\") == \"IT\", col(\"SALARY\") * 1.10)\n",
    "    .otherwise(col(\"SALARY\"))\n",
    ")\n",
    "\n",
    "display(df_transformed)\n"
   ]
  },
  {
   "cell_type": "code",
   "execution_count": 0,
   "metadata": {
    "application/vnd.databricks.v1+cell": {
     "cellMetadata": {
      "byteLimit": 2048000,
      "rowLimit": 10000
     },
     "inputWidgets": {},
     "nuid": "679b23d8-1d31-46c3-8a45-0003b54015fe",
     "showTitle": false,
     "tableResultSettingsMap": {},
     "title": ""
    }
   },
   "outputs": [
    {
     "output_type": "stream",
     "name": "stdout",
     "output_type": "stream",
     "text": [
      "+----+\n|TEST|\n+----+\n|   1|\n+----+\n\n"
     ]
    }
   ],
   "source": [
    "test_df = (spark.read\n",
    "           .format(\"snowflake\")\n",
    "           .options(\n",
    "               sfURL=\"kcsvubi-lc68850.snowflakecomputing.com\",\n",
    "               sfDatabase=\"COMPANY_DB\",\n",
    "               sfSchema=\"ANALYTICS\",\n",
    "               sfWarehouse=\"COMPUTE_WH\",\n",
    "               sfRole=\"ACCOUNTADMIN\",\n",
    "               sfUser=\"LAKS13\",\n",
    "               sfPassword=\"Lakshan,098!!!\"\n",
    "           )\n",
    "           .option(\"query\", \"SELECT 1 AS test\")\n",
    "           .load())\n",
    "\n",
    "test_df.show()\n"
   ]
  },
  {
   "cell_type": "code",
   "execution_count": 0,
   "metadata": {
    "application/vnd.databricks.v1+cell": {
     "cellMetadata": {
      "byteLimit": 2048000,
      "rowLimit": 10000
     },
     "inputWidgets": {},
     "nuid": "69e7fc14-17f4-4489-8a3d-962f7b33ee09",
     "showTitle": false,
     "tableResultSettingsMap": {},
     "title": ""
    }
   },
   "outputs": [],
   "source": [
    "(df_transformed.write\n",
    " .format(\"snowflake\")\n",
    " .options(**sfOptions)\n",
    " .option(\"dbtable\", \"EMPLOYEES_TRANSFORMED\")  # this will create the table\n",
    " .mode(\"overwrite\")                            # overwrite if exists\n",
    " .save())\n"
   ]
  }
 ],
 "metadata": {
  "application/vnd.databricks.v1+notebook": {
   "computePreferences": null,
   "dashboards": [],
   "environmentMetadata": {
    "base_environment": "",
    "environment_version": "4"
   },
   "inputWidgetPreferences": null,
   "language": "python",
   "notebookMetadata": {
    "pythonIndentUnit": 4
   },
   "notebookName": "Day 3 Assignment",
   "widgets": {}
  },
  "language_info": {
   "name": "python"
  }
 },
 "nbformat": 4,
 "nbformat_minor": 0
}