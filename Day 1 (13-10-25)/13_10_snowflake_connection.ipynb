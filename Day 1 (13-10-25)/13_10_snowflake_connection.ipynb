{
 "cells": [
  {
   "cell_type": "code",
   "execution_count": 0,
   "metadata": {
    "application/vnd.databricks.v1+cell": {
     "cellMetadata": {
      "byteLimit": 2048000,
      "rowLimit": 10000
     },
     "inputWidgets": {},
     "nuid": "e0467536-6e00-4680-9fd8-9715dde5ec21",
     "showTitle": false,
     "tableResultSettingsMap": {},
     "title": ""
    }
   },
   "outputs": [
    {
     "output_type": "stream",
     "name": "stdout",
     "output_type": "stream",
     "text": [
      "+---+--------+-------+----------+\n| ID|CUSTOMER| AMOUNT| SALE_DATE|\n+---+--------+-------+----------+\n|101|    Tina|34500.0|2025-10-10|\n+---+--------+-------+----------+\n\n"
     ]
    }
   ],
   "source": [
    "options = {\n",
    "    \"sfURL\": \"kcsvubi-lc68850.snowflakecomputing.com\",\n",
    "    \"sfDatabase\": \"TRAINING_DB\",\n",
    "    \"sfSchema\": \"RAW\",\n",
    "    \"sfWarehouse\": \"COMPUTE_WH\",\n",
    "    \"sfRole\": \"SYSADMIN\",\n",
    "    \"sfUser\": \"laks13\",\n",
    "    \"sfPassword\": \"Lakshan,098!!!\"\n",
    "}\n",
    "df = spark.read.format(\"snowflake\").options(**options).option(\"dbtable\", \"SALES\").load()\n",
    "df.show()"
   ]
  }
 ],
 "metadata": {
  "application/vnd.databricks.v1+notebook": {
   "computePreferences": null,
   "dashboards": [],
   "environmentMetadata": {
    "base_environment": "",
    "environment_version": "4"
   },
   "inputWidgetPreferences": null,
   "language": "python",
   "notebookMetadata": {
    "pythonIndentUnit": 4
   },
   "notebookName": "13_10_snowflake_connection",
   "widgets": {}
  },
  "language_info": {
   "name": "python"
  }
 },
 "nbformat": 4,
 "nbformat_minor": 0
}