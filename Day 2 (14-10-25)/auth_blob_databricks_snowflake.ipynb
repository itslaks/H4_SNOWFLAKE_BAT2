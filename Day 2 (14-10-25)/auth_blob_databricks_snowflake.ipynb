{
 "cells": [
  {
   "cell_type": "code",
   "execution_count": 0,
   "metadata": {
    "application/vnd.databricks.v1+cell": {
     "cellMetadata": {
      "byteLimit": 2048000,
      "rowLimit": 10000
     },
     "inputWidgets": {},
     "nuid": "f880ecf1-c361-4a03-a893-3434f9463474",
     "showTitle": false,
     "tableResultSettingsMap": {},
     "title": ""
    }
   },
   "outputs": [
    {
     "output_type": "stream",
     "name": "stdout",
     "output_type": "stream",
     "text": [
      "   ID    Name       ITEM   Amount\n0   1   Alvin       Phone   12000\n1   2  Robert      Laptop   45000\n2   3     Tom       Phone   35000\n3   4    Zeek        Buds    3500\n4   5   Jerry  Television   20000\n"
     ]
    }
   ],
   "source": [
    "import pandas as pd\n",
    "\n",
    "url = (\n",
    "    \"https://blobconnect.blob.core.windows.net/saleslive/salesdata.csv\"\n",
    "    \"?sv=2024-11-04&ss=bfqt&srt=sco&sp=rwdlacupiytfx\"\n",
    "    \"&se=2025-10-14T20:26:55Z&st=2025-10-14T12:11:55Z\"\n",
    "    \"&spr=https\"\n",
    "    \"&sig=l%2FOP6y8duPoXtonMcjmU23cd2J9%2BNErvg2eeP3ruqm8%3D\"\n",
    ")\n",
    "\n",
    "# Read the CSV file directly from Azure Blob Storage\n",
    "df = pd.read_csv(url, sep=\",\", encoding=\"utf-8-sig\")\n",
    "\n",
    "print(df.head())\n"
   ]
  },
  {
   "cell_type": "code",
   "execution_count": 0,
   "metadata": {
    "application/vnd.databricks.v1+cell": {
     "cellMetadata": {
      "byteLimit": 2048000,
      "rowLimit": 10000
     },
     "inputWidgets": {},
     "nuid": "c49677a0-9c34-45df-a742-22bca2fec8f3",
     "showTitle": false,
     "tableResultSettingsMap": {},
     "title": ""
    }
   },
   "outputs": [
    {
     "output_type": "stream",
     "name": "stdout",
     "output_type": "stream",
     "text": [
      "Collecting snowflake-connector-python[pandas]\n  Downloading snowflake_connector_python-4.0.0-cp312-cp312-manylinux_2_17_aarch64.manylinux2014_aarch64.whl.metadata (77 kB)\nCollecting asn1crypto<2.0.0,>0.24.0 (from snowflake-connector-python[pandas])\n  Downloading asn1crypto-1.5.1-py2.py3-none-any.whl.metadata (13 kB)\nRequirement already satisfied: cryptography>=3.1.0 in /databricks/python3/lib/python3.12/site-packages (from snowflake-connector-python[pandas]) (43.0.3)\nCollecting pyOpenSSL<26.0.0,>=22.0.0 (from snowflake-connector-python[pandas])\n  Downloading pyopenssl-25.3.0-py3-none-any.whl.metadata (17 kB)\nRequirement already satisfied: pyjwt<3.0.0 in /databricks/python3/lib/python3.12/site-packages (from snowflake-connector-python[pandas]) (2.10.1)\nRequirement already satisfied: pytz in /databricks/python3/lib/python3.12/site-packages (from snowflake-connector-python[pandas]) (2024.1)\nRequirement already satisfied: requests<3.0.0 in /databricks/python3/lib/python3.12/site-packages (from snowflake-connector-python[pandas]) (2.32.3)\nRequirement already satisfied: packaging in /databricks/python3/lib/python3.12/site-packages (from snowflake-connector-python[pandas]) (24.1)\nRequirement already satisfied: charset_normalizer<4,>=2 in /databricks/python3/lib/python3.12/site-packages (from snowflake-connector-python[pandas]) (3.3.2)\nRequirement already satisfied: idna<4,>=2.5 in /databricks/python3/lib/python3.12/site-packages (from snowflake-connector-python[pandas]) (3.7)\nRequirement already satisfied: certifi>=2017.4.17 in /databricks/python3/lib/python3.12/site-packages (from snowflake-connector-python[pandas]) (2025.1.31)\nRequirement already satisfied: typing_extensions<5,>=4.3 in /databricks/python3/lib/python3.12/site-packages (from snowflake-connector-python[pandas]) (4.12.2)\nRequirement already satisfied: filelock<4,>=3.5 in /usr/local/lib/python3.12/dist-packages (from snowflake-connector-python[pandas]) (3.18.0)\nRequirement already satisfied: sortedcontainers>=2.4.0 in /databricks/python3/lib/python3.12/site-packages (from snowflake-connector-python[pandas]) (2.4.0)\nRequirement already satisfied: platformdirs<5.0.0,>=2.6.0 in /databricks/python3/lib/python3.12/site-packages (from snowflake-connector-python[pandas]) (3.10.0)\nCollecting tomlkit (from snowflake-connector-python[pandas])\n  Downloading tomlkit-0.13.3-py3-none-any.whl.metadata (2.8 kB)\nRequirement already satisfied: boto3>=1.24 in /databricks/python3/lib/python3.12/site-packages (from snowflake-connector-python[pandas]) (1.36.2)\nRequirement already satisfied: botocore>=1.24 in /databricks/python3/lib/python3.12/site-packages (from snowflake-connector-python[pandas]) (1.36.3)\nRequirement already satisfied: pandas<3.0.0,>=2.1.2 in /databricks/python3/lib/python3.12/site-packages (from snowflake-connector-python[pandas]) (2.2.3)\nRequirement already satisfied: pyarrow in /databricks/python3/lib/python3.12/site-packages (from snowflake-connector-python[pandas]) (19.0.1)\nRequirement already satisfied: jmespath<2.0.0,>=0.7.1 in /databricks/python3/lib/python3.12/site-packages (from boto3>=1.24->snowflake-connector-python[pandas]) (1.0.1)\nRequirement already satisfied: s3transfer<0.12.0,>=0.11.0 in /databricks/python3/lib/python3.12/site-packages (from boto3>=1.24->snowflake-connector-python[pandas]) (0.11.3)\nRequirement already satisfied: python-dateutil<3.0.0,>=2.1 in /databricks/python3/lib/python3.12/site-packages (from botocore>=1.24->snowflake-connector-python[pandas]) (2.9.0.post0)\nRequirement already satisfied: urllib3!=2.2.0,<3,>=1.25.4 in /databricks/python3/lib/python3.12/site-packages (from botocore>=1.24->snowflake-connector-python[pandas]) (2.3.0)\nRequirement already satisfied: cffi>=1.12 in /databricks/python3/lib/python3.12/site-packages (from cryptography>=3.1.0->snowflake-connector-python[pandas]) (1.17.1)\nRequirement already satisfied: numpy>=1.26.0 in /databricks/python3/lib/python3.12/site-packages (from pandas<3.0.0,>=2.1.2->snowflake-connector-python[pandas]) (2.1.3)\nRequirement already satisfied: tzdata>=2022.7 in /databricks/python3/lib/python3.12/site-packages (from pandas<3.0.0,>=2.1.2->snowflake-connector-python[pandas]) (2024.1)\nCollecting cryptography>=3.1.0 (from snowflake-connector-python[pandas])\n  Downloading cryptography-46.0.2-cp311-abi3-manylinux_2_34_aarch64.whl.metadata (5.7 kB)\nCollecting cffi>=2.0.0 (from cryptography>=3.1.0->snowflake-connector-python[pandas])\n  Downloading cffi-2.0.0-cp312-cp312-manylinux2014_aarch64.manylinux_2_17_aarch64.whl.metadata (2.6 kB)\nRequirement already satisfied: pycparser in /databricks/python3/lib/python3.12/site-packages (from cffi>=2.0.0->cryptography>=3.1.0->snowflake-connector-python[pandas]) (2.21)\nRequirement already satisfied: six>=1.5 in /usr/lib/python3/dist-packages (from python-dateutil<3.0.0,>=2.1->botocore>=1.24->snowflake-connector-python[pandas]) (1.16.0)\nDownloading asn1crypto-1.5.1-py2.py3-none-any.whl (105 kB)\nDownloading pyopenssl-25.3.0-py3-none-any.whl (57 kB)\nDownloading cryptography-46.0.2-cp311-abi3-manylinux_2_34_aarch64.whl (4.3 MB)\n\u001B[?25l   \u001B[90m━━━━━━━━━━━━━━━━━━━━━━━━━━━━━━━━━━━━━━━━\u001B[0m \u001B[32m0.0/4.3 MB\u001B[0m \u001B[31m?\u001B[0m eta \u001B[36m-:--:--\u001B[0m\r\u001B[2K   \u001B[90m━━━━━━━━━━━━━━━━━━━━━━━━━━━━━━━━━━━━━━━━\u001B[0m \u001B[32m4.3/4.3 MB\u001B[0m \u001B[31m77.8 MB/s\u001B[0m eta \u001B[36m0:00:00\u001B[0m\n\u001B[?25hDownloading snowflake_connector_python-4.0.0-cp312-cp312-manylinux_2_17_aarch64.manylinux2014_aarch64.whl (2.7 MB)\n\u001B[?25l   \u001B[90m━━━━━━━━━━━━━━━━━━━━━━━━━━━━━━━━━━━━━━━━\u001B[0m \u001B[32m0.0/2.7 MB\u001B[0m \u001B[31m?\u001B[0m eta \u001B[36m-:--:--\u001B[0m\r\u001B[2K   \u001B[90m━━━━━━━━━━━━━━━━━━━━━━━━━━━━━━━━━━━━━━━━\u001B[0m \u001B[32m2.7/2.7 MB\u001B[0m \u001B[31m115.4 MB/s\u001B[0m eta \u001B[36m0:00:00\u001B[0m\n\u001B[?25hDownloading tomlkit-0.13.3-py3-none-any.whl (38 kB)\nDownloading cffi-2.0.0-cp312-cp312-manylinux2014_aarch64.manylinux_2_17_aarch64.whl (220 kB)\nInstalling collected packages: asn1crypto, tomlkit, cffi, cryptography, pyOpenSSL, snowflake-connector-python\n  Attempting uninstall: cffi\n    Found existing installation: cffi 1.17.1\n    Not uninstalling cffi at /databricks/python3/lib/python3.12/site-packages, outside environment /local_disk0/.ephemeral_nfs/envs/pythonEnv-3c1fe55f-3215-403c-85d9-5b75f90f4392\n    Can't uninstall 'cffi'. No files were found to uninstall.\n  Attempting uninstall: cryptography\n    Found existing installation: cryptography 43.0.3\n    Not uninstalling cryptography at /databricks/python3/lib/python3.12/site-packages, outside environment /local_disk0/.ephemeral_nfs/envs/pythonEnv-3c1fe55f-3215-403c-85d9-5b75f90f4392\n    Can't uninstall 'cryptography'. No files were found to uninstall.\nSuccessfully installed asn1crypto-1.5.1 cffi-2.0.0 cryptography-46.0.2 pyOpenSSL-25.3.0 snowflake-connector-python-4.0.0 tomlkit-0.13.3\n\u001B[43mNote: you may need to restart the kernel using %restart_python or dbutils.library.restartPython() to use updated packages.\u001B[0m\n"
     ]
    }
   ],
   "source": [
    "%pip install snowflake-connector-python[pandas]"
   ]
  },
  {
   "cell_type": "code",
   "execution_count": 0,
   "metadata": {
    "application/vnd.databricks.v1+cell": {
     "cellMetadata": {
      "byteLimit": 2048000,
      "rowLimit": 10000
     },
     "inputWidgets": {},
     "nuid": "f8d08303-ee31-4122-982f-fb343848e936",
     "showTitle": false,
     "tableResultSettingsMap": {},
     "title": ""
    }
   },
   "outputs": [],
   "source": [
    "%restart_python"
   ]
  },
  {
   "cell_type": "code",
   "execution_count": 0,
   "metadata": {
    "application/vnd.databricks.v1+cell": {
     "cellMetadata": {
      "byteLimit": 2048000,
      "rowLimit": 10000
     },
     "inputWidgets": {},
     "nuid": "567b6d68-bc6d-49cf-a376-bf43824baca8",
     "showTitle": false,
     "tableResultSettingsMap": {},
     "title": ""
    }
   },
   "outputs": [],
   "source": [
    "import  pandas as pd\n",
    "import snowflake.connector\n",
    "from snowflake.connector.pandas_tools import write_pandas\n",
    "\n",
    "data=[(6,'rock','West',5000.00,'2024-10-5'),(7,'Austin','North',8000.00,'2025-09-5')]\n",
    "df=pd.DataFrame(data,columns=['ID','CUSTOEMR_NAME','REGION','AMOUNT','SALE_DATE'])\n",
    "\n",
    "conn = snowflake.connector.connect(\n",
    "    user='laks13',\n",
    "    password='Lakshan,098!!!',\n",
    "    account='kcsvubi-lc68850',\n",
    "    warehouse='COMPUTE_WH',\n",
    "    database='PRACTICE',\n",
    "    schema='RAW'\n",
    ")\n",
    "write_pandas(conn,df,'SALES')\n",
    "\n",
    "conn.close()"
   ]
  },
  {
   "cell_type": "code",
   "execution_count": 0,
   "metadata": {
    "application/vnd.databricks.v1+cell": {
     "cellMetadata": {
      "byteLimit": 2048000,
      "rowLimit": 10000
     },
     "inputWidgets": {},
     "nuid": "a67954da-25b4-4336-9151-e91ae560018d",
     "showTitle": false,
     "tableResultSettingsMap": {},
     "title": ""
    }
   },
   "outputs": [
    {
     "output_type": "stream",
     "name": "stdout",
     "output_type": "stream",
     "text": [
      "Available schemas: [(datetime.datetime(2025, 10, 14, 20, 27, 28, 210000, tzinfo=<DstTzInfo 'America/Los_Angeles' PDT-1 day, 17:00:00 DST>), 'INFORMATION_SCHEMA', 'N', 'N', 'PRACTICE', '', 'Views describing the contents of schemas in this database', '', '1', '', None, None, None, None), (datetime.datetime(2025, 10, 14, 5, 40, 3, 689000, tzinfo=<DstTzInfo 'America/Los_Angeles' PDT-1 day, 17:00:00 DST>), 'PUBLIC', 'N', 'Y', 'PRACTICE', 'ACCOUNTADMIN', '', '', '1', 'ROLE', None, None, None, None)]\n"
     ]
    }
   ],
   "source": [
    "conn = snowflake.connector.connect(\n",
    "    user='laks13',\n",
    "    password='Lakshan,098!!!',\n",
    "    account='kcsvubi-lc68850',\n",
    "    warehouse='COMPUTE_WH'\n",
    ")\n",
    "\n",
    "cur = conn.cursor()\n",
    "cur.execute(\"USE DATABASE PRACTICE\")\n",
    "cur.execute(\"SHOW SCHEMAS\")\n",
    "schemas = cur.fetchall()\n",
    "print(\"Available schemas:\", schemas)\n",
    "cur.close()\n",
    "conn.close()"
   ]
  },
  {
   "cell_type": "code",
   "execution_count": 0,
   "metadata": {
    "application/vnd.databricks.v1+cell": {
     "cellMetadata": {
      "byteLimit": 2048000,
      "rowLimit": 10000
     },
     "inputWidgets": {},
     "nuid": "e2e62cdf-f334-4f1c-ab08-fbd6839e19cf",
     "showTitle": false,
     "tableResultSettingsMap": {},
     "title": ""
    }
   },
   "outputs": [
    {
     "output_type": "stream",
     "name": "stdout",
     "output_type": "stream",
     "text": [
      "Column names: ['ID', 'Name', 'ITEM ', 'Amount']\n\nFirst few rows:\n   ID    Name       ITEM   Amount\n0   1   Alvin       Phone   12000\n1   2  Robert      Laptop   45000\n2   3     Tom       Phone   35000\n3   4    Zeek        Buds    3500\n4   5   Jerry  Television   20000\n\nData types:\nID         int64\nName      object\nITEM      object\nAmount     int64\ndtype: object\n"
     ]
    }
   ],
   "source": [
    "import pandas as pd\n",
    "\n",
    "url = (\n",
    "    \"https://blobconnect.blob.core.windows.net/saleslive/salesdata.csv\"\n",
    "    \"?sv=2024-11-04&ss=bfqt&srt=sco&sp=rwdlacupiytfx\"\n",
    "    \"&se=2025-10-15T11:23:05Z&st=2025-10-15T03:08:05Z\"\n",
    "    \"&spr=https\"\n",
    "    \"&sig=TF%2FxtDg2gyFzW3dqWigO7W%2BCecAR2UciQgCczfa7QIQ%3D\"\n",
    ")\n",
    "\n",
    "df = pd.read_csv(url, sep=\",\", encoding=\"utf-8-sig\")\n",
    "print(\"Column names:\", df.columns.tolist())\n",
    "print(\"\\nFirst few rows:\")\n",
    "print(df.head())\n",
    "print(\"\\nData types:\")\n",
    "print(df.dtypes)"
   ]
  },
  {
   "cell_type": "code",
   "execution_count": 0,
   "metadata": {
    "application/vnd.databricks.v1+cell": {
     "cellMetadata": {
      "byteLimit": 2048000,
      "rowLimit": 10000
     },
     "inputWidgets": {},
     "nuid": "60709199-e3f2-4275-9663-f58c461dee41",
     "showTitle": false,
     "tableResultSettingsMap": {},
     "title": ""
    }
   },
   "outputs": [
    {
     "output_type": "stream",
     "name": "stdout",
     "output_type": "stream",
     "text": [
      "Cleaned column names: ['ID', 'NAME', 'ITEM', 'AMOUNT']\n   ID    NAME        ITEM   AMOUNT\n0   1   Alvin       Phone  12000.0\n1   2  Robert      Laptop  45000.0\n2   3     Tom       Phone  35000.0\n3   4    Zeek        Buds   3500.0\n4   5   Jerry  Television  20000.0\n✅ Uploaded 5 rows successfully!\n"
     ]
    }
   ],
   "source": [
    "import snowflake.connector\n",
    "from snowflake.connector.pandas_tools import write_pandas\n",
    "import pandas as pd\n",
    "\n",
    "# CSV URL with new SAS token\n",
    "url = (\n",
    "    \"https://blobconnect.blob.core.windows.net/saleslive/salesdata.csv\"\n",
    "    \"?sv=2024-11-04&ss=bfqt&srt=sco&sp=rwdlacupiytfx\"\n",
    "    \"&se=2025-10-15T11:23:05Z&st=2025-10-15T03:08:05Z\"\n",
    "    \"&spr=https\"\n",
    "    \"&sig=TF%2FxtDg2gyFzW3dqWigO7W%2BCecAR2UciQgCczfa7QIQ%3D\"\n",
    ")\n",
    "\n",
    "# Load CSV\n",
    "df = pd.read_csv(url, sep=\",\", encoding=\"utf-8-sig\")\n",
    "\n",
    "# ✅ Clean column names - remove trailing spaces and make uppercase\n",
    "df.columns = df.columns.str.strip().str.upper()\n",
    "\n",
    "# Optional type casting\n",
    "if 'ID' in df.columns:\n",
    "    df[\"ID\"] = df[\"ID\"].astype(int)\n",
    "if 'AMOUNT' in df.columns:\n",
    "    df[\"AMOUNT\"] = df[\"AMOUNT\"].astype(float)\n",
    "\n",
    "print(\"Cleaned column names:\", df.columns.tolist())\n",
    "print(df.head())\n",
    "\n",
    "# Connect to Snowflake\n",
    "conn = snowflake.connector.connect(\n",
    "    user='laks13',\n",
    "    password='Lakshan,098!!!',\n",
    "    account='kcsvubi-lc68850',\n",
    "    warehouse='COMPUTE_WH'\n",
    ")\n",
    "\n",
    "# Create cursor and set database/schema\n",
    "cur = conn.cursor()\n",
    "cur.execute(\"USE DATABASE PRACTICE\")\n",
    "cur.execute(\"USE SCHEMA PUBLIC\")\n",
    "\n",
    "# Upload DataFrame\n",
    "success, nchunks, nrows, _ = write_pandas(conn, df, \"SALES_CONN\")\n",
    "\n",
    "print(f\"✅ Uploaded {nrows} rows successfully!\")\n",
    "\n",
    "cur.close()\n",
    "conn.close()"
   ]
  },
  {
   "cell_type": "code",
   "execution_count": 0,
   "metadata": {
    "application/vnd.databricks.v1+cell": {
     "cellMetadata": {},
     "inputWidgets": {},
     "nuid": "bfa296bd-049a-4aee-8f38-66ad8f98b341",
     "showTitle": false,
     "tableResultSettingsMap": {},
     "title": ""
    }
   },
   "outputs": [],
   "source": []
  }
 ],
 "metadata": {
  "application/vnd.databricks.v1+notebook": {
   "computePreferences": null,
   "dashboards": [],
   "environmentMetadata": {
    "base_environment": "",
    "environment_version": "4"
   },
   "inputWidgetPreferences": null,
   "language": "python",
   "notebookMetadata": {
    "pythonIndentUnit": 4
   },
   "notebookName": "auth_blob_databricks_snowflake",
   "widgets": {}
  },
  "language_info": {
   "name": "python"
  }
 },
 "nbformat": 4,
 "nbformat_minor": 0
}